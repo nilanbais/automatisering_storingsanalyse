{
 "cells": [
  {
   "cell_type": "markdown",
   "metadata": {},
   "source": [
    "# Genereren van een storingsanalyse\n",
    "\n",
    "Dit script is voor het generegen van het rapport voor de storingsanalyse en de bijbehorende bijlage, gevuld met de verschillende grafieken en tabellen. \n",
    "\n",
    "## Stappen \n",
    "Onderstaand worden de stappen uiteengezet die u gevraagd wordt te doorlopen."
   ]
  },
  {
   "cell_type": "markdown",
   "metadata": {},
   "source": [
    "### Stap 1 - Specificeren van het project\n",
    "Metadata bestanden worden geïdentificeerd op basis van de naam van het project. Wanneer een nieuw \n",
    "project wordt toegevoegd, is het dus van belang dat u de correcte/officiële projectnaam gebruikt.\n",
    "\n",
    "#### Voorbeelden\n",
    "```python\n",
    "project = \"Coentunnel-tracé\"\n",
    "```\n",
    "```python\n",
    "project = \"Sluis Eefde\"\n",
    "```\n",
    "\n",
    "In onderstaande code cell moet u de naam van het project specificeren tussen de leestekens, zoals de \n",
    "voobeelden weergeven."
   ]
  },
  {
   "cell_type": "code",
   "execution_count": 1,
   "metadata": {},
   "outputs": [],
   "source": [
    "# Pas onderstaande regel aan\n",
    "project = \"Coentunnel-tracé\""
   ]
  },
  {
   "cell_type": "markdown",
   "metadata": {},
   "source": [
    "### Stap 2 - Specificeren van het rapporttype\n",
    "Het rapporttype duidt op of het een kwartaal- of jaarrapportage is. Dit heeft invloed op het proces dat op de achtergrond doorlopen wordt. Wanneer u voorberijdend werk doet voor een kwartaalrapportage, neemt u het eerste voorbeeld over. Is het voor een jaarrapportage, dan neemt u het tweede voorbeeld over.\n",
    "```python\n",
    "rapport_type = \"Kwartaalrapportage\"\n",
    "```\n",
    "```python\n",
    "rapport_type = \"Jaarrapportage\"\n",
    "```"
   ]
  },
  {
   "cell_type": "code",
   "execution_count": 2,
   "metadata": {},
   "outputs": [],
   "source": [
    "# Pas onderstaande regel aan\n",
    "rapport_type = \"Kwartaalrapportage\""
   ]
  },
  {
   "cell_type": "markdown",
   "metadata": {},
   "source": [
    "### Stap 3 -  Jaar en kwartaal specificeren\n",
    "In deze stap wordt u gevraagd het jaartal en het kwartaal te specifieceren. De voor uw rapport correcte gegevens moet u invullen zoals in het onderstaande voorbeeld wordt laten zien.\n",
    "\n",
    "```python\n",
    "jaar, kwartaal = \"2021\", \"Q2\"\n",
    "```"
   ]
  },
  {
   "cell_type": "code",
   "execution_count": 3,
   "metadata": {},
   "outputs": [],
   "source": [
    "# Pas onderstaande regel aan\n",
    "jaar, kwartaal = \"2021\", \"Q2\""
   ]
  },
  {
   "cell_type": "markdown",
   "metadata": {},
   "source": [
    "### Stap 4 - Specificeren van uw API-key\n",
    "Uw API-key wordt gebruikt in het bevragen van de maximo database. Deze API-key fungeert hier als een \n",
    "soort identificatie, waarmee u uwzelf kunt identificeren en het toegestaan wordt dat u de database \n",
    "mag bevragen. \n",
    "\n",
    "Vul uw API-key zoals in het onderstaande voorbeeld (met leestekens en al).\n",
    "```python\n",
    "api_key=\"xME4NDOtaW46R95iQ1dlbkQkJDE5\"\n",
    "```\n",
    "\n",
    "LET OP - het is belangrijk dat u uw API-key voor uzelf houdt. Zodoende is het ook belangrijk dat u de API-key weer verwijderd nadat het script succesvol is afgerond."
   ]
  },
  {
   "cell_type": "code",
   "execution_count": 4,
   "metadata": {},
   "outputs": [],
   "source": [
    "# Pas onderstaande regel aan\n",
    "api_key = \"bWF4YWRtaW46R21iQ1dlbkQyMDE5\""
   ]
  },
  {
   "cell_type": "markdown",
   "metadata": {},
   "source": [
    "### Stap 5 - Specificeren van de staging file naam\n",
    "\n",
    "Er moet gerefereerd worden naar de eerder gegenereerde staging file die is aangevuld met het type \n",
    "van de melding. Het refereren wordt gedaan door middel van het invullen van de naam van de\n",
    "aangevulde staging file, met daarbij de bestandextentie `.xlsx`. Dit alles moet tussen tussen de \n",
    "leestekens worden geplaatst.\n",
    "```python\n",
    "naam_staging_file = \"20211006_15_42_staging_file.xlsx\"\n",
    "```"
   ]
  },
  {
   "cell_type": "code",
   "execution_count": 5,
   "metadata": {},
   "outputs": [],
   "source": [
    "# Pas onderstaande regel aan\n",
    "naam_staging_file = \"validating_input_data.xlsx\""
   ]
  },
  {
   "cell_type": "markdown",
   "metadata": {},
   "source": [
    "### Stap 6 - Specificeren van de drempelwaarde\n",
    "\n",
    "Het kan zijn dat een deelinstallatie pas vanaf een bepaald aantal storingen behandeld hoeft te\n",
    "worden in het rapport. Indien dit voor u het geval is, moet u dit minimale aantal storingen \n",
    "specificeren in de eerstvolgende code cell, zoals in onderstaand voorbeeld. \n",
    "```python\n",
    "drempelwaarde = 5\n",
    "```\n",
    "\n",
    "Wanneer u geen drempelwaarde hoeft te specificeren voor het genereren van het rapport, moet u een\n",
    "drempelwaarde van 0 meegeven."
   ]
  },
  {
   "cell_type": "code",
   "execution_count": 6,
   "metadata": {},
   "outputs": [],
   "source": [
    "# Pas onderstaande regel aan\n",
    "drempelwaarde = 0"
   ]
  },
  {
   "cell_type": "markdown",
   "metadata": {},
   "source": [
    "### Stap 7 - Starten van het script\n",
    "Wanneer u alle bovenstaande stappen heeft doorlopen, is het tijd om het script te starten. Dit doet u door te navigeren naar de optie ```Kernel``` in de balk boven aan uw scherm. Vervolgens selecteert u de optie ```Restart & Run All```."
   ]
  },
  {
   "cell_type": "markdown",
   "metadata": {},
   "source": [
    "# Importeren van de benodigdheden"
   ]
  },
  {
   "cell_type": "code",
   "execution_count": 7,
   "metadata": {},
   "outputs": [],
   "source": [
    "import os\n",
    "\n",
    "keep_going = True\n",
    "while keep_going:\n",
    "    if os.getcwd().endswith(\"automatisering_storingsanalyse\"):\n",
    "        keep_going = False\n",
    "    else:\n",
    "        os.chdir('..')  # changes the working dir to a level above the current working dir\n",
    "    \n",
    "from source.document_generator import DocumentGenerator\n",
    "\n",
    "path_to_metadata = \"data/metadata\" \n",
    "path_to_metadata_backup = \"data/metadata/prev_versions\"\n",
    "path_to_staging_file_folder = \"data/staging_file\"\n",
    "path_to_generated_documents = \"documents/generated_documents\""
   ]
  },
  {
   "cell_type": "markdown",
   "metadata": {},
   "source": [
    "# Aanmaken van een class object"
   ]
  },
  {
   "cell_type": "code",
   "execution_count": 8,
   "metadata": {
    "scrolled": false
   },
   "outputs": [
    {
     "name": "stdout",
     "output_type": "stream",
     "text": [
      "C:\\Users\\NBais\\OneDrive - TBI Holding\\Documenten\\GitHub\\automatisering_storingsanalyse\\data/staging_file\\validating_input_data.xlsx\n"
     ]
    }
   ],
   "source": [
    "dg = DocumentGenerator(project=project, \n",
    "                       rapport_type=rapport_type, \n",
    "                       quarter=kwartaal, \n",
    "                       year=jaar, \n",
    "                       api_key=api_key,\n",
    "                       staging_file_name=naam_staging_file)"
   ]
  },
  {
   "cell_type": "markdown",
   "metadata": {},
   "source": [
    "# Opbouwen van het tekst document"
   ]
  },
  {
   "cell_type": "code",
   "execution_count": 9,
   "metadata": {},
   "outputs": [
    {
     "name": "stdout",
     "output_type": "stream",
     "text": [
      "Creating file TABLE_TEST_Q2_2021_storingsanalyse_tekst.docx\n"
     ]
    },
    {
     "ename": "PackageNotFoundError",
     "evalue": "Package not found at 'documents/generated_documents\\TABLE_TEST_Q2_2021_storingsanalyse_tekst.docx'",
     "output_type": "error",
     "traceback": [
      "\u001b[1;31m---------------------------------------------------------------------------\u001b[0m",
      "\u001b[1;31mPackageNotFoundError\u001b[0m                      Traceback (most recent call last)",
      "\u001b[1;32m<ipython-input-9-fe2375d59817>\u001b[0m in \u001b[0;36m<module>\u001b[1;34m\u001b[0m\n\u001b[1;32m----> 1\u001b[1;33m \u001b[0mdg\u001b[0m\u001b[1;33m.\u001b[0m\u001b[0mbuild_full_document\u001b[0m\u001b[1;33m(\u001b[0m\u001b[0mpath_to_folder\u001b[0m\u001b[1;33m=\u001b[0m\u001b[0mpath_to_generated_documents\u001b[0m\u001b[1;33m,\u001b[0m \u001b[0mthreshold\u001b[0m\u001b[1;33m=\u001b[0m\u001b[0mdrempelwaarde\u001b[0m\u001b[1;33m)\u001b[0m\u001b[1;33m\u001b[0m\u001b[1;33m\u001b[0m\u001b[0m\n\u001b[0m",
      "\u001b[1;32m~\\OneDrive - TBI Holding\\Documenten\\GitHub\\automatisering_storingsanalyse\\source\\document_generator.py\u001b[0m in \u001b[0;36mbuild_full_document\u001b[1;34m(self, path_to_folder, threshold)\u001b[0m\n\u001b[0;32m    571\u001b[0m         \u001b[0m_file_name\u001b[0m \u001b[1;33m=\u001b[0m \u001b[0mos\u001b[0m\u001b[1;33m.\u001b[0m\u001b[0mpath\u001b[0m\u001b[1;33m.\u001b[0m\u001b[0mjoin\u001b[0m\u001b[1;33m(\u001b[0m\u001b[0mpath_to_folder\u001b[0m\u001b[1;33m,\u001b[0m \u001b[0mself\u001b[0m\u001b[1;33m.\u001b[0m\u001b[0m_default_export_file_name\u001b[0m\u001b[1;33m)\u001b[0m\u001b[1;33m\u001b[0m\u001b[1;33m\u001b[0m\u001b[0m\n\u001b[0;32m    572\u001b[0m \u001b[1;33m\u001b[0m\u001b[0m\n\u001b[1;32m--> 573\u001b[1;33m         \u001b[0mdoc\u001b[0m \u001b[1;33m=\u001b[0m \u001b[0mdocx\u001b[0m\u001b[1;33m.\u001b[0m\u001b[0mDocument\u001b[0m\u001b[1;33m(\u001b[0m\u001b[0m_file_name\u001b[0m\u001b[1;33m)\u001b[0m\u001b[1;33m\u001b[0m\u001b[1;33m\u001b[0m\u001b[0m\n\u001b[0m\u001b[0;32m    574\u001b[0m \u001b[1;33m\u001b[0m\u001b[0m\n\u001b[0;32m    575\u001b[0m         \u001b[0mdoc\u001b[0m\u001b[1;33m.\u001b[0m\u001b[0madd_heading\u001b[0m\u001b[1;33m(\u001b[0m\u001b[1;34m\"Analyse\"\u001b[0m\u001b[1;33m,\u001b[0m \u001b[0mlevel\u001b[0m\u001b[1;33m=\u001b[0m\u001b[1;36m1\u001b[0m\u001b[1;33m)\u001b[0m\u001b[1;33m\u001b[0m\u001b[1;33m\u001b[0m\u001b[0m\n",
      "\u001b[1;32m~\\AppData\\Roaming\\Python\\Python38\\site-packages\\docx\\api.py\u001b[0m in \u001b[0;36mDocument\u001b[1;34m(docx)\u001b[0m\n\u001b[0;32m     23\u001b[0m     \"\"\"\n\u001b[0;32m     24\u001b[0m     \u001b[0mdocx\u001b[0m \u001b[1;33m=\u001b[0m \u001b[0m_default_docx_path\u001b[0m\u001b[1;33m(\u001b[0m\u001b[1;33m)\u001b[0m \u001b[1;32mif\u001b[0m \u001b[0mdocx\u001b[0m \u001b[1;32mis\u001b[0m \u001b[1;32mNone\u001b[0m \u001b[1;32melse\u001b[0m \u001b[0mdocx\u001b[0m\u001b[1;33m\u001b[0m\u001b[1;33m\u001b[0m\u001b[0m\n\u001b[1;32m---> 25\u001b[1;33m     \u001b[0mdocument_part\u001b[0m \u001b[1;33m=\u001b[0m \u001b[0mPackage\u001b[0m\u001b[1;33m.\u001b[0m\u001b[0mopen\u001b[0m\u001b[1;33m(\u001b[0m\u001b[0mdocx\u001b[0m\u001b[1;33m)\u001b[0m\u001b[1;33m.\u001b[0m\u001b[0mmain_document_part\u001b[0m\u001b[1;33m\u001b[0m\u001b[1;33m\u001b[0m\u001b[0m\n\u001b[0m\u001b[0;32m     26\u001b[0m     \u001b[1;32mif\u001b[0m \u001b[0mdocument_part\u001b[0m\u001b[1;33m.\u001b[0m\u001b[0mcontent_type\u001b[0m \u001b[1;33m!=\u001b[0m \u001b[0mCT\u001b[0m\u001b[1;33m.\u001b[0m\u001b[0mWML_DOCUMENT_MAIN\u001b[0m\u001b[1;33m:\u001b[0m\u001b[1;33m\u001b[0m\u001b[1;33m\u001b[0m\u001b[0m\n\u001b[0;32m     27\u001b[0m         \u001b[0mtmpl\u001b[0m \u001b[1;33m=\u001b[0m \u001b[1;34m\"file '%s' is not a Word file, content type is '%s'\"\u001b[0m\u001b[1;33m\u001b[0m\u001b[1;33m\u001b[0m\u001b[0m\n",
      "\u001b[1;32m~\\AppData\\Roaming\\Python\\Python38\\site-packages\\docx\\opc\\package.py\u001b[0m in \u001b[0;36mopen\u001b[1;34m(cls, pkg_file)\u001b[0m\n\u001b[0;32m    126\u001b[0m         \u001b[1;33m*\u001b[0m\u001b[0mpkg_file\u001b[0m\u001b[1;33m*\u001b[0m\u001b[1;33m.\u001b[0m\u001b[1;33m\u001b[0m\u001b[1;33m\u001b[0m\u001b[0m\n\u001b[0;32m    127\u001b[0m         \"\"\"\n\u001b[1;32m--> 128\u001b[1;33m         \u001b[0mpkg_reader\u001b[0m \u001b[1;33m=\u001b[0m \u001b[0mPackageReader\u001b[0m\u001b[1;33m.\u001b[0m\u001b[0mfrom_file\u001b[0m\u001b[1;33m(\u001b[0m\u001b[0mpkg_file\u001b[0m\u001b[1;33m)\u001b[0m\u001b[1;33m\u001b[0m\u001b[1;33m\u001b[0m\u001b[0m\n\u001b[0m\u001b[0;32m    129\u001b[0m         \u001b[0mpackage\u001b[0m \u001b[1;33m=\u001b[0m \u001b[0mcls\u001b[0m\u001b[1;33m(\u001b[0m\u001b[1;33m)\u001b[0m\u001b[1;33m\u001b[0m\u001b[1;33m\u001b[0m\u001b[0m\n\u001b[0;32m    130\u001b[0m         \u001b[0mUnmarshaller\u001b[0m\u001b[1;33m.\u001b[0m\u001b[0munmarshal\u001b[0m\u001b[1;33m(\u001b[0m\u001b[0mpkg_reader\u001b[0m\u001b[1;33m,\u001b[0m \u001b[0mpackage\u001b[0m\u001b[1;33m,\u001b[0m \u001b[0mPartFactory\u001b[0m\u001b[1;33m)\u001b[0m\u001b[1;33m\u001b[0m\u001b[1;33m\u001b[0m\u001b[0m\n",
      "\u001b[1;32m~\\AppData\\Roaming\\Python\\Python38\\site-packages\\docx\\opc\\pkgreader.py\u001b[0m in \u001b[0;36mfrom_file\u001b[1;34m(pkg_file)\u001b[0m\n\u001b[0;32m     30\u001b[0m         \u001b[0mReturn\u001b[0m \u001b[0ma\u001b[0m \u001b[1;33m|\u001b[0m\u001b[0mPackageReader\u001b[0m\u001b[1;33m|\u001b[0m \u001b[0minstance\u001b[0m \u001b[0mloaded\u001b[0m \u001b[1;32mwith\u001b[0m \u001b[0mcontents\u001b[0m \u001b[0mof\u001b[0m \u001b[1;33m*\u001b[0m\u001b[0mpkg_file\u001b[0m\u001b[1;33m*\u001b[0m\u001b[1;33m.\u001b[0m\u001b[1;33m\u001b[0m\u001b[1;33m\u001b[0m\u001b[0m\n\u001b[0;32m     31\u001b[0m         \"\"\"\n\u001b[1;32m---> 32\u001b[1;33m         \u001b[0mphys_reader\u001b[0m \u001b[1;33m=\u001b[0m \u001b[0mPhysPkgReader\u001b[0m\u001b[1;33m(\u001b[0m\u001b[0mpkg_file\u001b[0m\u001b[1;33m)\u001b[0m\u001b[1;33m\u001b[0m\u001b[1;33m\u001b[0m\u001b[0m\n\u001b[0m\u001b[0;32m     33\u001b[0m         \u001b[0mcontent_types\u001b[0m \u001b[1;33m=\u001b[0m \u001b[0m_ContentTypeMap\u001b[0m\u001b[1;33m.\u001b[0m\u001b[0mfrom_xml\u001b[0m\u001b[1;33m(\u001b[0m\u001b[0mphys_reader\u001b[0m\u001b[1;33m.\u001b[0m\u001b[0mcontent_types_xml\u001b[0m\u001b[1;33m)\u001b[0m\u001b[1;33m\u001b[0m\u001b[1;33m\u001b[0m\u001b[0m\n\u001b[0;32m     34\u001b[0m         \u001b[0mpkg_srels\u001b[0m \u001b[1;33m=\u001b[0m \u001b[0mPackageReader\u001b[0m\u001b[1;33m.\u001b[0m\u001b[0m_srels_for\u001b[0m\u001b[1;33m(\u001b[0m\u001b[0mphys_reader\u001b[0m\u001b[1;33m,\u001b[0m \u001b[0mPACKAGE_URI\u001b[0m\u001b[1;33m)\u001b[0m\u001b[1;33m\u001b[0m\u001b[1;33m\u001b[0m\u001b[0m\n",
      "\u001b[1;32m~\\AppData\\Roaming\\Python\\Python38\\site-packages\\docx\\opc\\phys_pkg.py\u001b[0m in \u001b[0;36m__new__\u001b[1;34m(cls, pkg_file)\u001b[0m\n\u001b[0;32m     28\u001b[0m                 \u001b[0mreader_cls\u001b[0m \u001b[1;33m=\u001b[0m \u001b[0m_ZipPkgReader\u001b[0m\u001b[1;33m\u001b[0m\u001b[1;33m\u001b[0m\u001b[0m\n\u001b[0;32m     29\u001b[0m             \u001b[1;32melse\u001b[0m\u001b[1;33m:\u001b[0m\u001b[1;33m\u001b[0m\u001b[1;33m\u001b[0m\u001b[0m\n\u001b[1;32m---> 30\u001b[1;33m                 raise PackageNotFoundError(\n\u001b[0m\u001b[0;32m     31\u001b[0m                     \u001b[1;34m\"Package not found at '%s'\"\u001b[0m \u001b[1;33m%\u001b[0m \u001b[0mpkg_file\u001b[0m\u001b[1;33m\u001b[0m\u001b[1;33m\u001b[0m\u001b[0m\n\u001b[0;32m     32\u001b[0m                 )\n",
      "\u001b[1;31mPackageNotFoundError\u001b[0m: Package not found at 'documents/generated_documents\\TABLE_TEST_Q2_2021_storingsanalyse_tekst.docx'"
     ]
    }
   ],
   "source": [
    "dg.build_full_document(path_to_folder=path_to_generated_documents, threshold=drempelwaarde)"
   ]
  },
  {
   "cell_type": "markdown",
   "metadata": {},
   "source": [
    "# Opbouwen van de bijlage"
   ]
  },
  {
   "cell_type": "code",
   "execution_count": null,
   "metadata": {},
   "outputs": [],
   "source": [
    "dg.build_appendix(path_to_folder=path_to_generated_documents, threshold=drempelwaarde)"
   ]
  },
  {
   "cell_type": "markdown",
   "metadata": {},
   "source": [
    "# Bijwerken van de opgeslagen bestanden"
   ]
  },
  {
   "cell_type": "code",
   "execution_count": null,
   "metadata": {},
   "outputs": [],
   "source": [
    "dg.sa.save_meta(path_to_meta_folder=path_to_metadata, \n",
    "                path_to_meta_backup_folder=path_to_metadata_backup)"
   ]
  },
  {
   "cell_type": "markdown",
   "metadata": {},
   "source": [
    "# Afronding\n",
    "\n",
    "Als het script succesvol is uitgevoerd, kunt u de documenten ophalen uit de map\n",
    "`documents/generated_documents`. U kunt nagaan of het script goed is doorlopen door te controleren of bij zowel het opbouwen van het tekst document als het opbouwen van de bijlage een terugkoppeling `Finished.` staat."
   ]
  }
 ],
 "metadata": {
  "kernelspec": {
   "display_name": "Python 3",
   "language": "python",
   "name": "python3"
  },
  "language_info": {
   "codemirror_mode": {
    "name": "ipython",
    "version": 3
   },
   "file_extension": ".py",
   "mimetype": "text/x-python",
   "name": "python",
   "nbconvert_exporter": "python",
   "pygments_lexer": "ipython3",
   "version": "3.8.3"
  },
  "toc": {
   "base_numbering": 1,
   "nav_menu": {},
   "number_sections": true,
   "sideBar": true,
   "skip_h1_title": false,
   "title_cell": "Table of Contents",
   "title_sidebar": "Contents",
   "toc_cell": false,
   "toc_position": {},
   "toc_section_display": true,
   "toc_window_display": false
  }
 },
 "nbformat": 4,
 "nbformat_minor": 5
}

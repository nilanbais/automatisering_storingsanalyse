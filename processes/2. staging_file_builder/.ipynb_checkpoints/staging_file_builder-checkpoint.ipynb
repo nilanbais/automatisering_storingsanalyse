{
 "cells": [
  {
   "cell_type": "markdown",
   "metadata": {},
   "source": [
    "# Genereren van een staging file\n",
    "De stagin file is het bestand dat word gebruikt om de input van de maintenance engineers te krijgen \n",
    "met betrekking tot het type van de verschillende meldingen. Deze input is onderdeel van, en van groot belang voor het genereren van de uiteindelijke storingsanalyse.\n",
    "\n",
    "Deze notebook automatiseert het bevragen van de maximo database, het transformeren van de hierdoor verkregen data en het exporteren/opslaan van deze opgeschoonde data.\n",
    "\n",
    "## Stappen \n",
    "Onderstaand worden de stappen uiteengezet die u gevraagd wordt te doorlopen."
   ]
  },
  {
   "cell_type": "markdown",
   "metadata": {},
   "source": [
    "### Stap 1 - Specificeren van het project\n",
    "Metadata bestanden worden geïdentificeerd op basis van de naam van het project. Wanneer een nieuw \n",
    "project wordt toegevoegd, is het dus van belang dat u de correcte/officiële projectnaam gebruikt.\n",
    "\n",
    "#### Voorbeelden\n",
    "```python\n",
    "project = \"Coentunnel-tracé\"\n",
    "```\n",
    "```python\n",
    "project = \"Sluis Eefde\"\n",
    "```\n",
    "\n",
    "In onderstaande code cell moet u de naam van het project specificeren tussen de leestekens, zoals de \n",
    "voobeelden weergeven."
   ]
  },
  {
   "cell_type": "code",
   "execution_count": 1,
   "metadata": {},
   "outputs": [],
   "source": [
    "# Pas onderstaande regel aan\n",
    "project = \"Coentunnel-tracé\""
   ]
  },
  {
   "cell_type": "markdown",
   "metadata": {},
   "source": [
    "### Stap 2 - Specificeren van het rapporttype\n",
    "Het rapporttype duidt op of het een kwartaal- of jaarrapportage is. Dit heeft invloed op het proces dat op de achtergrond doorlopen wordt. Wanneer u voorberijdend werk doet voor een kwartaalrapportage, neemt u het eerste voorbeeld over. Is het voor een jaarrapportage, dan neemt u het tweede voorbeeld over.\n",
    "```python\n",
    "rapport_type = \"Kwartaalrapportage\"\n",
    "```\n",
    "```python\n",
    "rapport_type = \"Jaarrapportage\"\n",
    "```"
   ]
  },
  {
   "cell_type": "code",
   "execution_count": 2,
   "metadata": {},
   "outputs": [],
   "source": [
    "# Pas onderstaande regel aan\n",
    "rapport_type = \"Kwartaalrapportage\""
   ]
  },
  {
   "cell_type": "markdown",
   "metadata": {},
   "source": [
    "### Stap 3 -  Jaar en kwartaal specificeren\n",
    "In deze stap wordt u gevraagd het jaartal en het kwartaal te specifieceren. De voor uw rapport correcte gegevens moet u invullen zoals in het onderstaande voorbeeld wordt laten zien.\n",
    "\n",
    "```python\n",
    "jaar, kwartaal = \"2021\", \"Q2\"\n",
    "```"
   ]
  },
  {
   "cell_type": "code",
   "execution_count": 3,
   "metadata": {},
   "outputs": [],
   "source": [
    "# Pas onderstaande regel aan\n",
    "jaar, kwartaal = \"2021\", \"Q2\""
   ]
  },
  {
   "cell_type": "markdown",
   "metadata": {},
   "source": [
    "### Stap 4 - Specificeren van uw API-key\n",
    "Uw API-key wordt gebruikt in het bevragen van de maximo database. Deze API-key fungeert hier als een \n",
    "soort identificatie, waarmee u uwzelf kunt identificeren en het toegestaan wordt dat u de database \n",
    "mag bevragen. \n",
    "\n",
    "Vul uw API-key zoals in het onderstaande voorbeeld (met leestekens en al).\n",
    "```python\n",
    "api_key=\"xME4NDOtaW46R95iQ1dlbkQkJDE5\"\n",
    "```\n",
    "\n",
    "LET OP - het is belangrijk dat u uw API-key voor uzelf houdt. Zodoende is het ook belangrijk dat u de API-key weer verwijderd nadat het script succesvol is afgerond."
   ]
  },
  {
   "cell_type": "code",
   "execution_count": 4,
   "metadata": {},
   "outputs": [],
   "source": [
    "# Pas onderstaande regel aan\n",
    "api_key = \"bWF4YWRtaW46R21iQ1dlbkQyMDE5\""
   ]
  },
  {
   "cell_type": "markdown",
   "metadata": {},
   "source": [
    "### Stap 5 - Starten van het script\n",
    "Wanneer u alle bovenstaande stappen heeft doorlopen, is het tijd om het script te starten. Dit doet u door te navigeren naar de optie ```Kernel``` in de balk boven aan uw scherm. Vervolgens selecteert u de optie ```Restart & Run All```."
   ]
  },
  {
   "cell_type": "markdown",
   "metadata": {},
   "source": [
    "# Importeren van de benodigdheden"
   ]
  },
  {
   "cell_type": "code",
   "execution_count": 5,
   "metadata": {},
   "outputs": [],
   "source": [
    "import os\n",
    "\n",
    "keep_going = True\n",
    "while keep_going:\n",
    "    if os.getcwd().endswith(\"automatisering_storingsanalyse\"):\n",
    "        keep_going = False\n",
    "    else:\n",
    "        os.chdir('..')  # changes the working dir to a level above the current working dir\n",
    "\n",
    "# import class using relative path from project root\n",
    "from source.storingsanalyse import StoringsAnalyse\n",
    "\n",
    "path_to_raw_data_folder = \"data/raw_database_data\"\n",
    "path_to_staging_file_folder = \"data/staging_file\""
   ]
  },
  {
   "cell_type": "markdown",
   "metadata": {},
   "source": [
    "# Aanmaken van een class object"
   ]
  },
  {
   "cell_type": "code",
   "execution_count": 6,
   "metadata": {},
   "outputs": [
    {
     "name": "stdout",
     "output_type": "stream",
     "text": [
      "No staging file data found. Can't update meta\n"
     ]
    }
   ],
   "source": [
    "sa = StoringsAnalyse(project=project, \n",
    "                     rapport_type=rapport_type, \n",
    "                     quarter=kwartaal, \n",
    "                     year=jaar, \n",
    "                     api_key=api_key)"
   ]
  },
  {
   "cell_type": "markdown",
   "metadata": {},
   "source": [
    "# Vastleggen van de site_id"
   ]
  },
  {
   "cell_type": "code",
   "execution_count": 7,
   "metadata": {},
   "outputs": [],
   "source": [
    "sa._maximo.set_site_id(site_id=sa.get_site_id())"
   ]
  },
  {
   "cell_type": "markdown",
   "metadata": {},
   "source": [
    "# Bevragen van de maximo database"
   ]
  },
  {
   "cell_type": "code",
   "execution_count": 8,
   "metadata": {},
   "outputs": [
    {
     "name": "stdout",
     "output_type": "stream",
     "text": [
      "checking self.query and query (param)\n",
      "build api-url\n",
      "making request\n",
      "Success!\n"
     ]
    },
    {
     "data": {
      "text/plain": [
       "'Query finished successfully.'"
      ]
     },
     "execution_count": 8,
     "metadata": {},
     "output_type": "execute_result"
    }
   ],
   "source": [
    "sa.query_maximo_database()"
   ]
  },
  {
   "cell_type": "markdown",
   "metadata": {},
   "source": [
    "# Opslaan van de verkregen data"
   ]
  },
  {
   "cell_type": "code",
   "execution_count": 9,
   "metadata": {},
   "outputs": [
    {
     "name": "stdout",
     "output_type": "stream",
     "text": [
      "JSON object saved as 20211026_13_55_maximo_response_data.json at C:\\Users\\NBais\\OneDrive - TBI Holding\\Documenten\\GitHub\\automatisering_storingsanalyse\n"
     ]
    }
   ],
   "source": [
    "sa.save_maximo_response_data(export_path=path_to_raw_data_folder)"
   ]
  },
  {
   "cell_type": "markdown",
   "metadata": {},
   "source": [
    "# Bouwen en opslaan van de staging file"
   ]
  },
  {
   "cell_type": "code",
   "execution_count": 10,
   "metadata": {},
   "outputs": [],
   "source": [
    "sa.build_staging_file(export_path=path_to_staging_file_folder, \n",
    "                      maximo_export_data_filename=sa.filename_saved_response_data)"
   ]
  },
  {
   "cell_type": "markdown",
   "metadata": {},
   "source": [
    "# Afronding\n",
    "\n",
    "Nu het script is uitgevoerd, kunt u het script afsluiten. De staging file is opgeslagen in de map `data/staging_file`.\n",
    "\n",
    "Het is belangrijk dat u niet vergeet uw API-key weer te verwijderen."
   ]
  }
 ],
 "metadata": {
  "kernelspec": {
   "display_name": "Python 3",
   "language": "python",
   "name": "python3"
  },
  "language_info": {
   "codemirror_mode": {
    "name": "ipython",
    "version": 3
   },
   "file_extension": ".py",
   "mimetype": "text/x-python",
   "name": "python",
   "nbconvert_exporter": "python",
   "pygments_lexer": "ipython3",
   "version": "3.8.3"
  },
  "toc": {
   "base_numbering": 1,
   "nav_menu": {},
   "number_sections": true,
   "sideBar": true,
   "skip_h1_title": false,
   "title_cell": "Table of Contents",
   "title_sidebar": "Contents",
   "toc_cell": false,
   "toc_position": {},
   "toc_section_display": true,
   "toc_window_display": false
  }
 },
 "nbformat": 4,
 "nbformat_minor": 5
}
